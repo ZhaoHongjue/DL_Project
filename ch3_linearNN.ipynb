{
 "cells": [
  {
   "cell_type": "code",
   "execution_count": 12,
   "metadata": {},
   "outputs": [],
   "source": [
    "import numpy as np\n",
    "import random\n",
    "\n",
    "import torch\n",
    "from torch import nn\n",
    "from torch.utils import data\n",
    "\n",
    "import utils"
   ]
  },
  {
   "cell_type": "markdown",
   "metadata": {},
   "source": [
    "### Linear Regression Implementation from Scratch"
   ]
  },
  {
   "cell_type": "markdown",
   "metadata": {},
   "source": [
    "Generate Data"
   ]
  },
  {
   "cell_type": "code",
   "execution_count": 2,
   "metadata": {},
   "outputs": [
    {
     "name": "stdout",
     "output_type": "stream",
     "text": [
      "torch.Size([1000, 2]) torch.Size([1000])\n"
     ]
    },
    {
     "data": {
      "image/png": "[encoded data removed]",
      "text/plain": [
       "<Figure size 432x288 with 1 Axes>"
      ]
     },
     "metadata": {
      "needs_background": "light"
     },
     "output_type": "display_data"
    }
   ],
   "source": [
    "def generate_data(w_true, b_true, num):\n",
    "    '''use true value get datum with noise'''\n",
    "    X = torch.normal(0, 1, (num, len(w_true)))\n",
    "    Y = X @ w_true.reshape(-1, 1) + b_true\n",
    "    noise = torch.normal(0, 0.001, Y.shape)\n",
    "    Y += noise\n",
    "    return X, Y.reshape(-1)\n",
    "\n",
    "w_true = torch.FloatTensor([2.0, 3.0])\n",
    "b_true = torch.tensor(3.0)\n",
    "num = 1000\n",
    "feature, label = generate_data(w_true, b_true, num)\n",
    "print(feature.shape, label.shape)\n",
    "utils.plot(feature[:, 0], label, scatter=True)"
   ]
  },
  {
   "cell_type": "markdown",
   "metadata": {},
   "source": [
    "Get Minibatch"
   ]
  },
  {
   "cell_type": "code",
   "execution_count": 3,
   "metadata": {},
   "outputs": [
    {
     "name": "stdout",
     "output_type": "stream",
     "text": [
      "tensor([[-0.0564,  1.8220],\n",
      "        [-0.9211, -1.2822],\n",
      "        [ 0.0089, -0.0880],\n",
      "        [-1.3053, -0.5886],\n",
      "        [-0.0514, -0.6786],\n",
      "        [-0.9117,  1.0980],\n",
      "        [ 0.3776,  0.5434],\n",
      "        [ 2.5602,  1.3236],\n",
      "        [ 0.9211, -1.5411],\n",
      "        [ 1.0716, -0.9159]]) \n",
      " tensor([ 8.3529, -2.6890,  2.7533, -1.3763,  0.8625,  4.4716,  5.3845, 12.0907,\n",
      "         0.2175,  2.3946])\n"
     ]
    }
   ],
   "source": [
    "def data_iter(feature, label, batch_size):\n",
    "    num_examples = len(label)\n",
    "    indices = list(range(num_examples))\n",
    "    random.shuffle(indices)\n",
    "    \n",
    "    for i in range(0, num_examples, batch_size):\n",
    "        batch_indices = torch.tensor(\n",
    "            indices[i: min(i + batch_size, num_examples)]\n",
    "        )\n",
    "        yield feature[batch_indices], label[batch_indices]\n",
    "        \n",
    "for X, y in data_iter(feature, label, 10):\n",
    "    print(X, '\\n', y)\n",
    "    break"
   ]
  },
  {
   "cell_type": "markdown",
   "metadata": {},
   "source": [
    "Linear Model"
   ]
  },
  {
   "cell_type": "code",
   "execution_count": 4,
   "metadata": {},
   "outputs": [
    {
     "name": "stdout",
     "output_type": "stream",
     "text": [
      "tensor([1.8261, 0.6110]) tensor([2.0266])\n"
     ]
    },
    {
     "data": {
      "text/plain": [
       "tensor([[ 2.6376],\n",
       "        [ 7.5119],\n",
       "        [12.3862]])"
      ]
     },
     "execution_count": 4,
     "metadata": {},
     "output_type": "execute_result"
    }
   ],
   "source": [
    "def LinearReg(X, w, b):\n",
    "    return X @ w.reshape(-1, 1) + b\n",
    "\n",
    "w = torch.normal(0, 1, (2,))\n",
    "b = torch.normal(0, 1, (1,))\n",
    "print(w, b)\n",
    "LinearReg(torch.arange(6.0).reshape(-1, 2), w, b)"
   ]
  },
  {
   "cell_type": "markdown",
   "metadata": {},
   "source": [
    "Loss Function: MSE"
   ]
  },
  {
   "cell_type": "code",
   "execution_count": 5,
   "metadata": {},
   "outputs": [
    {
     "data": {
      "text/plain": [
       "tensor(3.)"
      ]
     },
     "execution_count": 5,
     "metadata": {},
     "output_type": "execute_result"
    }
   ],
   "source": [
    "def MSE(y_hat, y):\n",
    "    return (0.5 * (y_hat - y.reshape(y_hat.shape))**2).mean()\n",
    "\n",
    "y_hat = torch.arange(5)\n",
    "y = torch.zeros(5)\n",
    "MSE(y_hat, y)"
   ]
  },
  {
   "cell_type": "markdown",
   "metadata": {},
   "source": [
    "Optimization: SGD"
   ]
  },
  {
   "cell_type": "code",
   "execution_count": 6,
   "metadata": {},
   "outputs": [],
   "source": [
    "def SGD(params, lr):\n",
    "    with torch.no_grad():\n",
    "        for param in params:\n",
    "            param -= lr * param.grad\n",
    "            param.grad.zero_()"
   ]
  },
  {
   "cell_type": "markdown",
   "metadata": {},
   "source": [
    "Train"
   ]
  },
  {
   "cell_type": "code",
   "execution_count": 7,
   "metadata": {},
   "outputs": [
    {
     "name": "stdout",
     "output_type": "stream",
     "text": [
      "epoch: 0, loss: 0.8544938564300537\n",
      "epoch: 1, loss: 0.0949183851480484\n",
      "epoch: 2, loss: 0.010604551993310452\n",
      "epoch: 3, loss: 0.0011927346931770444\n",
      "epoch: 4, loss: 0.00013492695870809257\n",
      "epoch: 5, loss: 1.569022970215883e-05\n",
      "epoch: 6, loss: 2.210637148891692e-06\n",
      "epoch: 7, loss: 6.677622650386184e-07\n",
      "epoch: 8, loss: 4.971516318619251e-07\n",
      "epoch: 9, loss: 4.752605207158922e-07\n"
     ]
    }
   ],
   "source": [
    "w = torch.normal(0, 1, (2,), requires_grad = True)\n",
    "b = torch.normal(0, 1, (1,), requires_grad = True)\n",
    "\n",
    "epochs = 10\n",
    "batch_size = 100\n",
    "lr = 0.1\n",
    "\n",
    "for epoch in range(epochs):\n",
    "    for X, y in data_iter(feature, label, batch_size):\n",
    "        y_hat = LinearReg(X, w, b)\n",
    "        loss = MSE(y_hat, y)\n",
    "        loss.backward()\n",
    "        SGD([w, b], lr)\n",
    "    with torch.no_grad():\n",
    "        train_l = MSE(LinearReg(feature, w, b), label)\n",
    "        print(f'epoch: {epoch}, loss: {float(train_l)}')"
   ]
  },
  {
   "cell_type": "code",
   "execution_count": 8,
   "metadata": {},
   "outputs": [
    {
     "data": {
      "text/plain": [
       "(tensor([1.9999, 3.0000], requires_grad=True),\n",
       " tensor([3.0000], requires_grad=True))"
      ]
     },
     "execution_count": 8,
     "metadata": {},
     "output_type": "execute_result"
    }
   ],
   "source": [
    "w, b"
   ]
  },
  {
   "cell_type": "markdown",
   "metadata": {},
   "source": [
    "### Concise Implementation of Linear Regression"
   ]
  },
  {
   "cell_type": "markdown",
   "metadata": {},
   "source": [
    "Get Data Iter"
   ]
  },
  {
   "cell_type": "code",
   "execution_count": 14,
   "metadata": {},
   "outputs": [],
   "source": [
    "def load_array(arrays, batch_size):\n",
    "    dataset = data.TensorDataset(*arrays)\n",
    "    return data.DataLoader(dataset, batch_size)\n",
    "\n",
    "Data_iter = load_array((feature, label),batch_size)"
   ]
  },
  {
   "cell_type": "markdown",
   "metadata": {},
   "source": [
    "Model, Loss and Optimization"
   ]
  },
  {
   "cell_type": "code",
   "execution_count": 13,
   "metadata": {},
   "outputs": [],
   "source": [
    "LinModel = nn.Sequential(\n",
    "    nn.Linear(2, 1)\n",
    ")\n",
    "loss_fn = nn.MSELoss()\n",
    "optimizer = torch.optim.SGD(LinModel.parameters(), lr)"
   ]
  },
  {
   "cell_type": "markdown",
   "metadata": {},
   "source": [
    "Train"
   ]
  },
  {
   "cell_type": "code",
   "execution_count": 21,
   "metadata": {},
   "outputs": [
    {
     "name": "stdout",
     "output_type": "stream",
     "text": [
      "epoch: 0, loss: 0.2671566307544708\n",
      "epoch: 1, loss: 0.0026076959911733866\n",
      "epoch: 2, loss: 2.7117213903693482e-05\n",
      "epoch: 3, loss: 1.2232358130859211e-06\n",
      "epoch: 4, loss: 9.504038303020934e-07\n",
      "epoch: 5, loss: 9.466467645324883e-07\n",
      "epoch: 6, loss: 9.46484362884803e-07\n",
      "epoch: 7, loss: 9.465237553740735e-07\n",
      "epoch: 8, loss: 9.465258585805714e-07\n",
      "epoch: 9, loss: 9.465258585805714e-07\n"
     ]
    }
   ],
   "source": [
    "for epoch in range(epochs):\n",
    "    for X, y in Data_iter:\n",
    "        loss = loss_fn(LinModel(X).reshape(y.shape), y)\n",
    "        optimizer.zero_grad()\n",
    "        loss.backward()\n",
    "        optimizer.step()\n",
    "    with torch.no_grad():\n",
    "        train_l = loss_fn(LinModel(feature).reshape(-1), label)\n",
    "        print(f'epoch: {epoch}, loss: {float(train_l)}')"
   ]
  },
  {
   "cell_type": "code",
   "execution_count": 22,
   "metadata": {},
   "outputs": [
    {
     "data": {
      "text/plain": [
       "(tensor([[2.0000, 3.0000]]), tensor([3.0001]))"
      ]
     },
     "execution_count": 22,
     "metadata": {},
     "output_type": "execute_result"
    }
   ],
   "source": [
    "LinModel[0].weight.data, LinModel[0].bias.data"
   ]
  },
  {
   "cell_type": "markdown",
   "metadata": {},
   "source": [
    "### Softmax Regression Implementation from Scratch"
   ]
  },
  {
   "cell_type": "markdown",
   "metadata": {},
   "source": [
    "### Concise Implementation of Softmax Regression"
   ]
  }
 ],
 "metadata": {
  "interpreter": {
   "hash": "31f2aee4e71d21fbe5cf8b01ff0e069b9275f58929596ceb00d14d90e3e16cd6"
  },
  "kernelspec": {
   "display_name": "Python 3.8.10 64-bit",
   "language": "python",
   "name": "python3"
  },
  "language_info": {
   "codemirror_mode": {
    "name": "ipython",
    "version": 3
   },
   "file_extension": ".py",
   "mimetype": "text/x-python",
   "name": "python",
   "nbconvert_exporter": "python",
   "pygments_lexer": "ipython3",
   "version": "3.8.10"
  },
  "orig_nbformat": 4
 },
 "nbformat": 4,
 "nbformat_minor": 2
}
