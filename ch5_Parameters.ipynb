{
 "cells": [
  {
   "cell_type": "code",
   "execution_count": 1,
   "metadata": {},
   "outputs": [],
   "source": [
    "import torch\n",
    "from torch import nn \n",
    "\n",
    "import utils"
   ]
  },
  {
   "cell_type": "markdown",
   "metadata": {},
   "source": [
    "### Parameters Management"
   ]
  },
  {
   "cell_type": "code",
   "execution_count": 2,
   "metadata": {},
   "outputs": [],
   "source": [
    "net = nn.Sequential(nn.Linear(4, 8), nn.ReLU(), nn.Linear(8, 1))"
   ]
  },
  {
   "cell_type": "markdown",
   "metadata": {},
   "source": [
    "Access"
   ]
  },
  {
   "cell_type": "code",
   "execution_count": 3,
   "metadata": {},
   "outputs": [
    {
     "data": {
      "text/plain": [
       "OrderedDict([('0.weight',\n",
       "              tensor([[ 0.0659, -0.3145, -0.4595,  0.3309],\n",
       "                      [-0.3164, -0.1920, -0.1169, -0.1623],\n",
       "                      [ 0.2913, -0.1785, -0.4760,  0.0714],\n",
       "                      [ 0.3176, -0.1024,  0.1128, -0.0090],\n",
       "                      [-0.2623,  0.4340, -0.4340, -0.1177],\n",
       "                      [ 0.3110,  0.4762,  0.3736,  0.2100],\n",
       "                      [-0.2461, -0.3886,  0.4134, -0.2700],\n",
       "                      [-0.4494,  0.2271,  0.0446,  0.3738]])),\n",
       "             ('0.bias',\n",
       "              tensor([-0.3204,  0.4508,  0.1258,  0.0233,  0.0802, -0.4210,  0.0733,  0.3756])),\n",
       "             ('2.weight',\n",
       "              tensor([[ 0.2249, -0.3044, -0.0576, -0.3405, -0.3418, -0.3461,  0.2867,  0.2373]])),\n",
       "             ('2.bias', tensor([-0.2111]))])"
      ]
     },
     "execution_count": 3,
     "metadata": {},
     "output_type": "execute_result"
    }
   ],
   "source": [
    "net.state_dict()"
   ]
  },
  {
   "cell_type": "code",
   "execution_count": 5,
   "metadata": {},
   "outputs": [
    {
     "data": {
      "text/plain": [
       "OrderedDict([('weight',\n",
       "              tensor([[ 0.0659, -0.3145, -0.4595,  0.3309],\n",
       "                      [-0.3164, -0.1920, -0.1169, -0.1623],\n",
       "                      [ 0.2913, -0.1785, -0.4760,  0.0714],\n",
       "                      [ 0.3176, -0.1024,  0.1128, -0.0090],\n",
       "                      [-0.2623,  0.4340, -0.4340, -0.1177],\n",
       "                      [ 0.3110,  0.4762,  0.3736,  0.2100],\n",
       "                      [-0.2461, -0.3886,  0.4134, -0.2700],\n",
       "                      [-0.4494,  0.2271,  0.0446,  0.3738]])),\n",
       "             ('bias',\n",
       "              tensor([-0.3204,  0.4508,  0.1258,  0.0233,  0.0802, -0.4210,  0.0733,  0.3756]))])"
      ]
     },
     "execution_count": 5,
     "metadata": {},
     "output_type": "execute_result"
    }
   ],
   "source": [
    "net[0].state_dict()"
   ]
  },
  {
   "cell_type": "code",
   "execution_count": 6,
   "metadata": {},
   "outputs": [
    {
     "name": "stdout",
     "output_type": "stream",
     "text": [
      "<class 'torch.nn.parameter.Parameter'>\n",
      "Parameter containing:\n",
      "tensor([-0.2111], requires_grad=True)\n",
      "tensor([-0.2111])\n"
     ]
    }
   ],
   "source": [
    "print(type(net[2].bias))\n",
    "print(net[2].bias)\n",
    "print(net[2].bias.data)"
   ]
  },
  {
   "cell_type": "code",
   "execution_count": 7,
   "metadata": {},
   "outputs": [
    {
     "name": "stdout",
     "output_type": "stream",
     "text": [
      "('weight', torch.Size([8, 4])) ('bias', torch.Size([8]))\n",
      "('0.weight', torch.Size([8, 4])) ('0.bias', torch.Size([8])) ('2.weight', torch.Size([1, 8])) ('2.bias', torch.Size([1]))\n"
     ]
    }
   ],
   "source": [
    "print(*[(name, param.shape) for name, param in net[0].named_parameters()])\n",
    "print(*[(name, param.shape) for name, param in net.named_parameters()])"
   ]
  },
  {
   "cell_type": "markdown",
   "metadata": {},
   "source": [
    "Initialization"
   ]
  },
  {
   "cell_type": "code",
   "execution_count": 8,
   "metadata": {},
   "outputs": [
    {
     "data": {
      "text/plain": [
       "OrderedDict([('weight',\n",
       "              tensor([[ 0.0008, -0.0214,  0.0012, -0.0100],\n",
       "                      [ 0.0059,  0.0013,  0.0274, -0.0189],\n",
       "                      [-0.0037,  0.0055, -0.0052,  0.0020],\n",
       "                      [-0.0106, -0.0135, -0.0023,  0.0007],\n",
       "                      [-0.0082,  0.0043, -0.0057, -0.0021],\n",
       "                      [ 0.0019, -0.0113, -0.0077,  0.0076],\n",
       "                      [-0.0048,  0.0090, -0.0019, -0.0130],\n",
       "                      [ 0.0116,  0.0183,  0.0042,  0.0078]])),\n",
       "             ('bias', tensor([0., 0., 0., 0., 0., 0., 0., 0.]))])"
      ]
     },
     "execution_count": 8,
     "metadata": {},
     "output_type": "execute_result"
    }
   ],
   "source": [
    "def init_normal(m):\n",
    "    if type(m) == nn.Linear:\n",
    "        nn.init.normal_(m.weight, mean = 0, std = 0.01)\n",
    "        nn.init.zeros_(m.bias)\n",
    "        \n",
    "net.apply(init_normal)\n",
    "net[0].state_dict()"
   ]
  },
  {
   "cell_type": "code",
   "execution_count": 9,
   "metadata": {},
   "outputs": [
    {
     "name": "stdout",
     "output_type": "stream",
     "text": [
      "tensor([ 0.1113, -0.0471,  0.0033,  0.3732])\n",
      "tensor([[42., 42., 42., 42., 42., 42., 42., 42.]])\n"
     ]
    }
   ],
   "source": [
    "def xavier(m):\n",
    "    if type(m) == nn.Linear:\n",
    "        nn.init.xavier_uniform_(m.weight)\n",
    "def init_42(m):\n",
    "    if type(m) == nn.Linear:\n",
    "        nn.init.constant_(m.weight, 42)\n",
    "\n",
    "net[0].apply(xavier)\n",
    "net[2].apply(init_42)\n",
    "print(net[0].weight.data[0])\n",
    "print(net[2].weight.data)"
   ]
  }
 ],
 "metadata": {
  "interpreter": {
   "hash": "31f2aee4e71d21fbe5cf8b01ff0e069b9275f58929596ceb00d14d90e3e16cd6"
  },
  "kernelspec": {
   "display_name": "Python 3.8.10 64-bit",
   "language": "python",
   "name": "python3"
  },
  "language_info": {
   "codemirror_mode": {
    "name": "ipython",
    "version": 3
   },
   "file_extension": ".py",
   "mimetype": "text/x-python",
   "name": "python",
   "nbconvert_exporter": "python",
   "pygments_lexer": "ipython3",
   "version": "3.8.10"
  },
  "orig_nbformat": 4
 },
 "nbformat": 4,
 "nbformat_minor": 2
}
